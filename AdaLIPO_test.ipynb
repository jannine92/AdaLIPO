{
 "cells": [
  {
   "cell_type": "markdown",
   "metadata": {},
   "source": [
    "## AdaLIPO Test Notebook"
   ]
  },
  {
   "cell_type": "markdown",
   "metadata": {},
   "source": [
    "### Documentation \n",
    "\n",
    "\n",
    "AdaLIPO uses CM-AES as standard inner loop algorithm (guided random search) but Random Search is implemented as well.  \n",
    "To use Random Search instead, set \"use_cmaes\" to False in the adalipo function.  \n",
    "\n",
    "There are two implementations, a 1D and a nD version with different visualizations:\n",
    "- 1D function: displays all calculated points on the Lipschitz function and the objective function\n",
    "- nD function: shows the computation time (increase) over all the calculation steps\n",
    "\n",
    "\n",
    "Test functions:\n",
    "- sum of squares (minimum: 0)\n",
    "- ackley (minimum: 0) "
   ]
  },
  {
   "cell_type": "code",
   "execution_count": 1,
   "metadata": {
    "scrolled": true
   },
   "outputs": [],
   "source": [
    "import numpy as np\n",
    "import matplotlib.pyplot as plt\n",
    "import time\n",
    "\n",
    "import cmaes as cmaes"
   ]
  },
  {
   "cell_type": "markdown",
   "metadata": {},
   "source": [
    "### Timer function"
   ]
  },
  {
   "cell_type": "code",
   "execution_count": 3,
   "metadata": {},
   "outputs": [],
   "source": [
    "def timerfunc(func):\n",
    "    \"\"\"\n",
    "    A timer decorator\n",
    "    \"\"\"\n",
    "    def function_timer(*args, **kwargs):\n",
    "        \"\"\"\n",
    "        A nested function for timing other functions\n",
    "        \"\"\"\n",
    "        start = time.time()\n",
    "        value = func(*args, **kwargs)\n",
    "        end = time.time()\n",
    "        runtime = np.float(end - start)\n",
    "        msg = \"The runtime for {func} took {time} seconds to complete\"\n",
    "        print(msg.format(func=func.__name__,\n",
    "                         time=runtime))\n",
    "        \n",
    "        return value\n",
    "    return function_timer"
   ]
  },
  {
   "cell_type": "markdown",
   "metadata": {},
   "source": [
    "### Hyperparameters"
   ]
  },
  {
   "cell_type": "code",
   "execution_count": 4,
   "metadata": {},
   "outputs": [],
   "source": [
    "#@timerfunc\n",
    "def sum_of_squares_hp():\n",
    "    return np.array([[-20,20],[-20,20],[-20,20],[-20,20],[-20,20]])\n"
   ]
  },
  {
   "cell_type": "code",
   "execution_count": 5,
   "metadata": {},
   "outputs": [],
   "source": [
    "def ackley_hp(): # evaluation on hypercube\n",
    "    return np.array([[-32.768,32.768],[-32.768,32.768]])"
   ]
  },
  {
   "cell_type": "code",
   "execution_count": 6,
   "metadata": {},
   "outputs": [],
   "source": [
    "def oneD_hyperparameters():\n",
    "    return np.array([[-20,20]])"
   ]
  },
  {
   "cell_type": "markdown",
   "metadata": {},
   "source": [
    "### Objective Functions"
   ]
  },
  {
   "cell_type": "code",
   "execution_count": 7,
   "metadata": {},
   "outputs": [],
   "source": [
    "#@timerfunc\n",
    "def sum_of_squares(hyperparameters): # minimum: 0\n",
    "    return np.sum([x**2 for x in hyperparameters])"
   ]
  },
  {
   "cell_type": "code",
   "execution_count": 8,
   "metadata": {},
   "outputs": [],
   "source": [
    "def ackley(x): # minimum: 0\n",
    "        arg1 = -0.2 * np.sqrt(0.5 * (x[0] ** 2 + x[1] ** 2))     \n",
    "        arg2 = 0.5 * (np.cos(2. * np.pi * x[0]) + np.cos(2. * np.pi * x[1]))\n",
    "        return -20. * np.exp(arg1) - np.exp(arg2) + 20. + np.e"
   ]
  },
  {
   "cell_type": "code",
   "execution_count": 9,
   "metadata": {},
   "outputs": [],
   "source": [
    "def sum_of_squares_1D(hyperparameters): # minimum: 0\n",
    "    return np.sum(x**2 for x in [hyperparameters])"
   ]
  },
  {
   "cell_type": "markdown",
   "metadata": {},
   "source": [
    "### Optimizer"
   ]
  },
  {
   "cell_type": "code",
   "execution_count": 10,
   "metadata": {},
   "outputs": [],
   "source": [
    "# Lipschitz function\n",
    "def L(xp_t1,fx,X,k):\n",
    "    L_xp_t1 = np.amax([fx[index] - k * np.linalg.norm((xp_t1 - X[index]), ord=2) \n",
    "                    for index in range(len(X))])\n",
    "    return L_xp_t1"
   ]
  },
  {
   "cell_type": "code",
   "execution_count": 11,
   "metadata": {},
   "outputs": [],
   "source": [
    "def meta_L(xp,fx,X,k):\n",
    "    return np.array([L(xp_t1,fx,X,k) for xp_t1 in xp])"
   ]
  },
  {
   "cell_type": "code",
   "execution_count": 12,
   "metadata": {},
   "outputs": [],
   "source": [
    "@timerfunc\n",
    "def adaptive_lipo(n, t_max, hyperparameters, f):\n",
    "    \"\"\"\n",
    "    Args:\n",
    "        n: number of iterations\n",
    "        hyperparameters: possible inputs of f (or bounds for hyperparameters?)\n",
    "        f: objective function \n",
    "        p: probability of exploitation vs (1-p) probability of exploration\n",
    "    Returns:\n",
    "        The estimated value that maximizes f\n",
    "    \"\"\"\n",
    "\n",
    "    use_cmaes = True\n",
    "    \n",
    "    # Initialization \n",
    "    min_bounds,max_bounds = np.array(hyperparameters).T\n",
    "    x1 = np.array((np.random.uniform(low=min_bounds, high=max_bounds, size=len(hyperparameters)))) \n",
    "\n",
    "    \n",
    "    X = [x1]\n",
    "    fx = [f(x1)]\n",
    "    k = [0]\n",
    "    t = 0\n",
    "    \n",
    "    # Iterations\n",
    "    overall_time = []\n",
    "    overall_rs_time = []\n",
    "    time_k_update = []\n",
    "    while t < t_max: \n",
    "        start_time = time.time()\n",
    "        \n",
    "        r_val = []\n",
    "        # sample from L(x)\n",
    "        \n",
    "        if use_cmaes:\n",
    "            gen = cmaes.minimize(meta_L, hyperparameters, fx, X, k[t], number_samples=20)\n",
    "\n",
    "            cmaes_time = []\n",
    "            for i in range(n): # exit criterion? \n",
    "                start_time_rs = time.time()\n",
    "                params,evaluation = next(gen)\n",
    "                #print(\"Params: \", params, \" Evaluation: \", evaluation)\n",
    "                #print('len r_val: ', r_val)\n",
    "#                 if len(r_val) > 0:\n",
    "#                     if np.absolute(r_val[-1][1] - evaluation) < 0.001:\n",
    "#                         print('finished after ', i, ' iterations')\n",
    "#                         break\n",
    "                r_val.append((params,evaluation))\n",
    "            \n",
    "                end_time_rs = time.time()\n",
    "                time_needed_rs = end_time_rs - start_time_rs\n",
    "                cmaes_time.append(time_needed_rs)\n",
    "                overall_rs_time.append(time_needed_rs)\n",
    "#                 print('time taken for cmaes loop', i, ' : ', time_needed_cmaes)\n",
    "#                 plt.plot(np.arange(0,n),cmaes_time,marker='o', color='deepskyblue')\n",
    "#                 plt.title('time for cmaes loop')\n",
    "#                 plt.show()\n",
    "        \n",
    "        else:\n",
    "            for a in range(0,n):\n",
    "                start_time_rs = time.time()\n",
    "                xp_t1 = np.array((np.random.uniform(low=min_bounds, high=max_bounds, size=len(hyperparameters)))) \n",
    "\n",
    "                # function to minimize\n",
    "                L_xp_t1 = np.amax([fx[index] - k[t] * np.linalg.norm((xp_t1 - X[index]), ord=2)\n",
    "                                   for index in range(len(X))])\n",
    "\n",
    "                r_val.append((xp_t1,L_xp_t1))\n",
    "                \n",
    "                end_time_rs = time.time()\n",
    "                time_needed_rs = end_time_rs - start_time_rs\n",
    "                overall_rs_time.append(time_needed_rs)\n",
    "                \n",
    "        # sort after L_xp_t1 and choose the xp_t1 value with the smallest L value\n",
    "        best_x = sorted(r_val,key=lambda x: x[1])[0][0]\n",
    "        X.append(best_x) \n",
    "        \n",
    "        \n",
    "        if len(X) >= (t+2):\n",
    "            #calc_f_time = time.time()\n",
    "            fx.append(f(X[t+1]))\n",
    "            #calc_f_time_end = time.time()\n",
    "            #print(\"Time needed to calculate f for timestep\", t, \" : \", calc_f_time_end - calc_f_time)\n",
    "            \n",
    "            t += 1\n",
    "            \n",
    "            start_k_update = time.time()\n",
    "            k.append(np.amax([(np.absolute(fx[i]-fx[j])/np.linalg.norm((X[i]-X[j]), ord=1)) #try: ord=2\n",
    "                              for i in range(len(X)) for j in range(len(X)) if i != j \n",
    "                              and np.linalg.norm(X[i]-X[j], ord=1)!=0 \n",
    "                             ])) # slope of all X's in X\n",
    "\n",
    "            print(\"t:{}, k:{} with x:{} and obj:{}\".format(t-1,k[t],X[t],fx[t]))\n",
    "            end_time = time.time()\n",
    "            time_loop = end_time - start_time\n",
    "            time_k_update.append(end_time-start_k_update)\n",
    "            overall_time.append(time_loop)\n",
    "            #print('total time taken for loop ', t, ' : ', time_loop)\n",
    "    if use_cmaes:            \n",
    "        rs_time_reshaped = np.array(overall_rs_time).reshape((t_max,n))\n",
    "        rs_time_sum = []\n",
    "        for i in range(0,t_max):\n",
    "            rs_time_sum.append(np.sum(rs_time_reshaped[i]))\n",
    "    else:\n",
    "        rs_time_sum = overall_rs_time\n",
    "    print('rs time sum: ', np.sum(rs_time_sum))\n",
    "    diff_time = [overall_time[i] - time_k_update[i] - rs_time_sum[i] for i in range(0,t_max)]\n",
    "    \n",
    "    plt.plot(np.arange(0,t_max),time_k_update,marker='o', color='crimson')\n",
    "    plt.title(\"time needed for k update\")\n",
    "    plt.show()\n",
    "    plt.plot(np.arange(0,len(overall_rs_time)),overall_rs_time,marker='o', color='lightgreen')\n",
    "    plt.title(\"time needed for all cmaes/rs loops\")\n",
    "    plt.show()\n",
    "    \n",
    "    plt.plot(np.arange(0,t_max),overall_time,marker='o', color='darkorange')\n",
    "    #plt.plot([0,t_max],[overall_time[0],overall_time[t_max-1]],linestyle='-',color='navy')\n",
    "    plt.title(\"overall time needed for one loop at timestep t\")\n",
    "    plt.show()\n",
    "    \n",
    "    plt.plot(np.arange(0,t_max),diff_time,marker='o',color='purple')\n",
    "    plt.title(\"overall time - k update time - (guided) random search time\")\n",
    "    plt.show()\n",
    "    \n",
    "    min_obj = np.argmin(fx)\n",
    "    print('Minimum: ', np.amin(fx), ' for X: ', X[min_obj], ' with k: ', k[min_obj])\n",
    "    \n",
    "    return X[min_obj]"
   ]
  },
  {
   "cell_type": "code",
   "execution_count": 13,
   "metadata": {},
   "outputs": [],
   "source": [
    "# 1D adalipo\n",
    "def adaptive_lipo_1D(n, t_max, hyperparameters, f):\n",
    "    \"\"\"\n",
    "    Args:\n",
    "        n: number of iterations CMAES\n",
    "        t_max: number of iterations AdaLIPO\n",
    "        hyperparameters: possible inputs of f (or bounds for hyperparameters)\n",
    "        f: objective function \n",
    "        p: probability of exploitation vs (1-p) probability of exploration\n",
    "    Returns:\n",
    "        The estimated value that maximizes f\n",
    "    \"\"\"\n",
    "\n",
    "    use_cmaes = True\n",
    "    \n",
    "    # Initialization \n",
    "    min_bounds,max_bounds = np.array(hyperparameters).T\n",
    "    print('min bounds: ', min_bounds, ' max bounds: ', max_bounds, ' len hp: ', len(hyperparameters))\n",
    "    x1 = np.array((np.random.uniform(low=min_bounds, high=max_bounds, size=len(hyperparameters))))\n",
    "    \n",
    "    X = [x1]\n",
    "    fx = [f(x1)]\n",
    "    k = [0]\n",
    "    t = 0\n",
    "    L = [(x1,fx[0])]\n",
    "    L_x = []\n",
    "    \n",
    "    # Outer Loop: AdaLIPO Iterations\n",
    "    while t < t_max: \n",
    "        r_val = []\n",
    "        \n",
    "        # Inner Loop: sample from L(x) with cmaes or Random Search\n",
    "        \n",
    "        #cmaes\n",
    "        if use_cmaes:\n",
    "            gen = cmaes.minimize(meta_L, hyperparameters, fx, X, k[t],number_samples=10)\n",
    "\n",
    "            for i in range(100): # TODO: exit criterion\n",
    "                params,evaluation = next(gen)\n",
    "                #print(evaluation)\n",
    "                #print(params,evaluation)\n",
    "                #print(\"Params: \", params, \" Evaluation: \", evaluation)\n",
    "                #print('len r_val: ', r_val)\n",
    "    #             if len(r_val) > 0:\n",
    "    #                 if np.absolute(r_val[-1][1] - evaluation) < 0.0000001:\n",
    "    #                     print('finished after ', i, ' iterations')\n",
    "    #                      break\n",
    "                r_val.append((params,evaluation))\n",
    "   \n",
    "        # Random Search\n",
    "        else:\n",
    "            for a in range(0,n):\n",
    "                xp_t1 = np.array((np.random.uniform(low=min_bounds, high=max_bounds, size=len(hyperparameters))))\n",
    "                L_all_x = [fx[index] - k[t] * np.linalg.norm((xp_t1 - X[index]), ord=2)\n",
    "                                   for index in range(len(X))]\n",
    "                L_xp_t1 = np.amax(L_all_x)\n",
    "\n",
    "                r_val.append((xp_t1,L_xp_t1))\n",
    "            \n",
    "#             # Visualization of calculated points of Lipschitz function at timestep t\n",
    "#             for s in range(len(L_all_x)):\n",
    "#                 plt.plot([xp_t1,X[s]],[L_all_x[s],fx[s]],linestyle='-', marker='o', color='darkorange')\n",
    "            \n",
    "#             sample_points = np.array((np.arange(-20, 20)))\n",
    "#             function = np.sum(x**2 for x in [sample_points])\n",
    "#             plt.plot(sample_points, function, linestyle='-', color='deepskyblue')\n",
    "#             plt.plot(X, fx, linestyle='None', marker='o', color='yellow')\n",
    "#             plt.plot(xp_t1, L_xp_t1, linestyle='None', marker='v', color='mediumblue')\n",
    "#             plt.show()\n",
    "            print('xp_t1: ', xp_t1, \" L_xp_t1: \", L_xp_t1)\n",
    "\n",
    "\n",
    "        # sort after L_xp_t1 and choose the xp_t1 value with the smallest L value\n",
    "        best_x = sorted(r_val,key=lambda x: x[1])[0][0]\n",
    "        X.append(best_x) \n",
    "        L.append((best_x,(sorted(r_val,key=lambda x: x[1])[0][1]))) \n",
    "        \n",
    "          \n",
    "        if len(X) >= (t+2):\n",
    "            fx.append(f(X[t+1]))\n",
    "            t += 1\n",
    "            k.append(np.amax([(np.absolute(fx[i]-fx[j])/np.linalg.norm([(X[i]-X[j])], ord=1)) #try: ord=2\n",
    "                              for i in range(len(X)) for j in range(len(X)) if i != j \n",
    "                              and np.linalg.norm([X[i]-X[j]], ord=1)!=0\n",
    "                             ])) # slope of all X's in X\n",
    "\n",
    "            print(\"t:{}, k:{} with x:{} and obj:{}\".format(t-1,k[t],X[t],fx[t]))\n",
    "    \n",
    "    # Visualisation of Lipschitz function, actual function and calculated fx points\n",
    "    # Note: + 2 indentions shows all the steps of the AdaLIPO algorithm\n",
    "    sample_points = np.array((np.linspace(-20.,20.,num=100)))\n",
    "    function = np.sum(x**2 for x in [sample_points])\n",
    "    L_function = [np.amax([fx[index] - (k[t] * np.linalg.norm([(x - X[index])], ord=2))\n",
    "                       for index in range(len(X))]) for x in sample_points]\n",
    "\n",
    "    plt.plot(sample_points, function, linestyle='-', color='deepskyblue')\n",
    "    plt.plot(sample_points, L_function, linestyle='-', color='purple')\n",
    "    plt.plot(X, fx, linestyle='None', marker='o', color='yellow')\n",
    "    plt.show()\n",
    "\n",
    "                         \n",
    "    min_obj = np.argmin(fx)\n",
    "    print('Minimum: ', np.amin(fx), ' for X: ', X[min_obj], ' with k: ', k[min_obj])\n",
    "    return X[min_obj]"
   ]
  },
  {
   "cell_type": "markdown",
   "metadata": {},
   "source": [
    "### Test"
   ]
  },
  {
   "cell_type": "code",
   "execution_count": 14,
   "metadata": {},
   "outputs": [
    {
     "name": "stdout",
     "output_type": "stream",
     "text": [
      "min bounds:  [-20]  max bounds:  [20]  len hp:  1\n"
     ]
    },
    {
     "name": "stderr",
     "output_type": "stream",
     "text": [
      "C:\\Users\\Jannine\\Anaconda3\\lib\\site-packages\\ipykernel_launcher.py:2: DeprecationWarning: Calling np.sum(generator) is deprecated, and in the future will give a different result. Use np.sum(np.from_iter(generator)) or the python sum builtin instead.\n",
      "  \n"
     ]
    },
    {
     "name": "stdout",
     "output_type": "stream",
     "text": [
      "t:0, k:5.04120639912782 with x:[-1.3017261] and obj:[1.69449085]\n",
      "t:1, k:21.30172610241449 with x:[-20.] and obj:[400.]\n",
      "t:2, k:21.30172610241449 with x:[1.61602153] and obj:[2.61152559]\n",
      "t:3, k:21.30172610241449 with x:[0.13562282] and obj:[0.01839355]\n",
      "t:4, k:21.30172610241449 with x:[-0.54370982] and obj:[0.29562037]\n",
      "t:5, k:21.30172610241449 with x:[3.09642024] and obj:[9.58781831]\n",
      "t:6, k:21.30172610241449 with x:[0.81495546] and obj:[0.66415241]\n",
      "t:7, k:21.30172610241449 with x:[0.46013171] and obj:[0.21172119]\n",
      "t:8, k:21.30172610241449 with x:[-0.88988329] and obj:[0.79189227]\n",
      "t:9, k:21.30172610241449 with x:[-0.19753636] and obj:[0.03902061]\n",
      "t:10, k:21.30172610241449 with x:[2.19247142] and obj:[4.80693091]\n",
      "t:11, k:21.30172610241449 with x:[1.16977922] and obj:[1.36838342]\n",
      "t:12, k:21.30172610241449 with x:[0.29333943] and obj:[0.08604802]\n",
      "t:13, k:21.30172610241449 with x:[-0.36460011] and obj:[0.13293324]\n",
      "t:14, k:21.30172610241449 with x:[-1.07461865] and obj:[1.15480525]\n",
      "t:15, k:21.30172610241449 with x:[-0.0304726] and obj:[0.00092858]\n",
      "t:16, k:21.30172610241449 with x:[0.626924] and obj:[0.3930337]\n",
      "t:17, k:21.30172610241449 with x:[-0.11688575] and obj:[0.01366228]\n",
      "t:18, k:21.30172610241449 with x:[1.363721] and obj:[1.85973496]\n",
      "t:19, k:21.30172610241449 with x:[-0.70514792] and obj:[0.49723359]\n",
      "t:20, k:21.30172610241449 with x:[0.21289312] and obj:[0.04532348]\n",
      "t:21, k:21.30172610241449 with x:[0.97583744] and obj:[0.9522587]\n",
      "t:22, k:21.30172610241449 with x:[-0.45033633] and obj:[0.20280281]\n",
      "t:23, k:21.30172610241449 with x:[0.53927204] and obj:[0.29081433]\n",
      "t:24, k:21.30172610241449 with x:[-0.27886389] and obj:[0.07776507]\n",
      "t:25, k:21.30172610241449 with x:[0.05216517] and obj:[0.0027212]\n",
      "t:26, k:21.30172610241449 with x:[0.37378573] and obj:[0.13971578]\n",
      "t:27, k:21.30172610241449 with x:[0.71457596] and obj:[0.5106188]\n",
      "t:28, k:21.30172610241449 with x:[1.89782725] and obj:[3.60174827]\n",
      "t:29, k:21.30172610241449 with x:[0.0108042] and obj:[0.00011673]\n",
      "t:30, k:21.30172610241449 with x:[0.17362586] and obj:[0.03014594]\n",
      "t:31, k:21.30172610241449 with x:[0.33230288] and obj:[0.1104252]\n",
      "t:32, k:21.30172610241449 with x:[-0.61969655] and obj:[0.38402382]\n",
      "t:33, k:21.30172610241449 with x:[-0.07338029] and obj:[0.00538467]\n",
      "t:34, k:21.30172610241449 with x:[-0.2372907] and obj:[0.05630688]\n",
      "t:35, k:21.30172610241449 with x:[-0.15661584] and obj:[0.02452852]\n",
      "t:36, k:21.30172610241449 with x:[-0.00981514] and obj:[9.63370331e-05]\n",
      "t:37, k:21.30172610241449 with x:[-0.40582822] and obj:[0.16469654]\n",
      "t:38, k:21.30172610241449 with x:[-0.7905993] and obj:[0.62504725]\n",
      "t:39, k:21.30172610241449 with x:[0.25216038] and obj:[0.06358486]\n",
      "t:40, k:21.30172610241449 with x:[0.09352613] and obj:[0.00874714]\n",
      "t:41, k:21.30172610241449 with x:[-0.49484444] and obj:[0.24487102]\n",
      "t:42, k:21.30172610241449 with x:[0.41526859] and obj:[0.172448]\n",
      "t:43, k:21.30172610241449 with x:[0.8994886] and obj:[0.80907974]\n",
      "t:44, k:21.30172610241449 with x:[0.50295686] and obj:[0.2529656]\n",
      "t:45, k:26.34293250154231 with x:[20.] and obj:[400.]\n",
      "t:46, k:26.34293250154231 with x:[-3.09085603] and obj:[9.55339102]\n",
      "t:47, k:26.34293250154231 with x:[0.58115785] and obj:[0.33774445]\n",
      "t:48, k:26.34293250154231 with x:[-2.04712582] and obj:[4.19072412]\n",
      "t:49, k:26.34293250154231 with x:[-0.32068488] and obj:[0.10283879]\n"
     ]
    },
    {
     "name": "stderr",
     "output_type": "stream",
     "text": [
      "C:\\Users\\Jannine\\Anaconda3\\lib\\site-packages\\ipykernel_launcher.py:92: DeprecationWarning: Calling np.sum(generator) is deprecated, and in the future will give a different result. Use np.sum(np.from_iter(generator)) or the python sum builtin instead.\n"
     ]
    },
    {
     "data": {
      "image/png": "[encoded data removed]",
      "text/plain": [
       "<Figure size 432x288 with 1 Axes>"
      ]
     },
     "metadata": {
      "needs_background": "light"
     },
     "output_type": "display_data"
    },
    {
     "name": "stdout",
     "output_type": "stream",
     "text": [
      "Minimum:  9.633703311215498e-05  for X:  [-0.00981514]  with k:  21.30172610241449\n"
     ]
    },
    {
     "data": {
      "text/plain": [
       "array([-0.00981514])"
      ]
     },
     "execution_count": 14,
     "metadata": {},
     "output_type": "execute_result"
    }
   ],
   "source": [
    "# Test 1D with objective plots\n",
    "\n",
    "hyperparameters = oneD_hyperparameters()\n",
    "adaptive_lipo_1D(20,50,hyperparameters,sum_of_squares_1D)\n",
    "\n",
    "\n",
    "# Test nD\n",
    "\n",
    "# hyperparameters = sum_of_squares_hp()\n",
    "# hyperparameters = ackley_hp()\n",
    "\n",
    "# test objective functions: sum_of_squares, ackley\n",
    "# adaptive_lipo(10,100,hyperparameters,ackley)"
   ]
  }
 ],
 "metadata": {
  "kernelspec": {
   "display_name": "Python 3",
   "language": "python",
   "name": "python3"
  },
  "language_info": {
   "codemirror_mode": {
    "name": "ipython",
    "version": 3
   },
   "file_extension": ".py",
   "mimetype": "text/x-python",
   "name": "python",
   "nbconvert_exporter": "python",
   "pygments_lexer": "ipython3",
   "version": "3.7.1"
  }
 },
 "nbformat": 4,
 "nbformat_minor": 2
}
